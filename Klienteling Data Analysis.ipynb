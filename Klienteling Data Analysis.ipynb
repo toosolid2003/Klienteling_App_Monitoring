{
 "metadata": {
  "name": "",
  "signature": "sha256:45ace1ba6305123395218e596f1f5629219cf6b8a20f1443ac89bf42000d3831"
 },
 "nbformat": 3,
 "nbformat_minor": 0,
 "worksheets": [
  {
   "cells": [
    {
     "cell_type": "heading",
     "level": 1,
     "metadata": {},
     "source": [
      "Preparation of data"
     ]
    },
    {
     "cell_type": "code",
     "collapsed": false,
     "input": [
      "import pandas as pd"
     ],
     "language": "python",
     "metadata": {},
     "outputs": [],
     "prompt_number": 2
    },
    {
     "cell_type": "code",
     "collapsed": false,
     "input": [
      "import numpy as np"
     ],
     "language": "python",
     "metadata": {},
     "outputs": [],
     "prompt_number": 3
    },
    {
     "cell_type": "code",
     "collapsed": false,
     "input": [
      "import pygal"
     ],
     "language": "python",
     "metadata": {},
     "outputs": [],
     "prompt_number": 4
    },
    {
     "cell_type": "markdown",
     "metadata": {},
     "source": [
      "Create the dataframe:"
     ]
    },
    {
     "cell_type": "code",
     "collapsed": false,
     "input": [
      "df1 = pd.read_excel(\"/Users/thibaut.segura/Desktop/Raw Data.xlsx\")"
     ],
     "language": "python",
     "metadata": {},
     "outputs": [],
     "prompt_number": 5
    },
    {
     "cell_type": "code",
     "collapsed": false,
     "input": [
      "df2 = pd.read_excel(\"/Users/thibaut.segura/Desktop/corr.xlsx\", sheetname=\"Corresp\")"
     ],
     "language": "python",
     "metadata": {},
     "outputs": [],
     "prompt_number": 6
    },
    {
     "cell_type": "code",
     "collapsed": false,
     "input": [
      "#df = pd.merge(df1, df2, how='left')\n",
      "df = pd.read_excel(\"/Users/thibaut.segura/Desktop/FjordExtract.xlsx\")"
     ],
     "language": "python",
     "metadata": {},
     "outputs": [],
     "prompt_number": 7
    },
    {
     "cell_type": "code",
     "collapsed": false,
     "input": [
      "df3 = pd.read_excel(\"/Users/thibaut.segura/Desktop/ROLL_OUT.xlsx\", sheetname=\"Sheet2\")"
     ],
     "language": "python",
     "metadata": {},
     "outputs": [],
     "prompt_number": 8
    },
    {
     "cell_type": "code",
     "collapsed": false,
     "input": [
      "df3.head()"
     ],
     "language": "python",
     "metadata": {},
     "outputs": [
      {
       "html": [
        "<div style=\"max-height:1000px;max-width:1500px;overflow:auto;\">\n",
        "<table border=\"1\" class=\"dataframe\">\n",
        "  <thead>\n",
        "    <tr style=\"text-align: right;\">\n",
        "      <th></th>\n",
        "      <th>Brand Name</th>\n",
        "      <th>REGION</th>\n",
        "      <th>COUNTRY</th>\n",
        "      <th>CITY</th>\n",
        "      <th>STORE_ID</th>\n",
        "      <th>short name</th>\n",
        "      <th>Nb of SA in-store</th>\n",
        "      <th>ROLL_OUT</th>\n",
        "    </tr>\n",
        "  </thead>\n",
        "  <tbody>\n",
        "    <tr>\n",
        "      <th>0</th>\n",
        "      <td> BAL</td>\n",
        "      <td> EMEAI</td>\n",
        "      <td> FRANCE</td>\n",
        "      <td>  PARIS</td>\n",
        "      <td> 80301</td>\n",
        "      <td>     GEORGE V</td>\n",
        "      <td> 6</td>\n",
        "      <td>2015-02-23</td>\n",
        "    </tr>\n",
        "    <tr>\n",
        "      <th>1</th>\n",
        "      <td> BAL</td>\n",
        "      <td> EMEAI</td>\n",
        "      <td> FRANCE</td>\n",
        "      <td>  PARIS</td>\n",
        "      <td> 80310</td>\n",
        "      <td> SAINT HONORE</td>\n",
        "      <td> 8</td>\n",
        "      <td>2015-02-23</td>\n",
        "    </tr>\n",
        "    <tr>\n",
        "      <th>2</th>\n",
        "      <td> BAL</td>\n",
        "      <td> EMEAI</td>\n",
        "      <td> FRANCE</td>\n",
        "      <td>  PARIS</td>\n",
        "      <td> 80309</td>\n",
        "      <td>      VARENNE</td>\n",
        "      <td> 3</td>\n",
        "      <td>2015-02-23</td>\n",
        "    </tr>\n",
        "    <tr>\n",
        "      <th>3</th>\n",
        "      <td> BAL</td>\n",
        "      <td> EMEAI</td>\n",
        "      <td>  ITALY</td>\n",
        "      <td>   ROME</td>\n",
        "      <td> 80105</td>\n",
        "      <td>         ROME</td>\n",
        "      <td> 7</td>\n",
        "      <td>2015-02-23</td>\n",
        "    </tr>\n",
        "    <tr>\n",
        "      <th>4</th>\n",
        "      <td> BAL</td>\n",
        "      <td> EMEAI</td>\n",
        "      <td>     UK</td>\n",
        "      <td> LONDON</td>\n",
        "      <td> 80201</td>\n",
        "      <td> MOUNT STREET</td>\n",
        "      <td> 4</td>\n",
        "      <td>2015-02-23</td>\n",
        "    </tr>\n",
        "  </tbody>\n",
        "</table>\n",
        "</div>"
       ],
       "metadata": {},
       "output_type": "pyout",
       "prompt_number": 9,
       "text": [
        "  Brand Name REGION COUNTRY    CITY STORE_ID    short name Nb of SA in-store  \\\n",
        "0        BAL  EMEAI  FRANCE   PARIS    80301      GEORGE V                 6   \n",
        "1        BAL  EMEAI  FRANCE   PARIS    80310  SAINT HONORE                 8   \n",
        "2        BAL  EMEAI  FRANCE   PARIS    80309       VARENNE                 3   \n",
        "3        BAL  EMEAI   ITALY    ROME    80105          ROME                 7   \n",
        "4        BAL  EMEAI      UK  LONDON    80201  MOUNT STREET                 4   \n",
        "\n",
        "    ROLL_OUT  \n",
        "0 2015-02-23  \n",
        "1 2015-02-23  \n",
        "2 2015-02-23  \n",
        "3 2015-02-23  \n",
        "4 2015-02-23  "
       ]
      }
     ],
     "prompt_number": 9
    },
    {
     "cell_type": "code",
     "collapsed": false,
     "input": [
      "df3[\"Nb of SA in-store\"] = df3[\"Nb of SA in-store\"].convert_objects(convert_numeric=True)"
     ],
     "language": "python",
     "metadata": {},
     "outputs": [],
     "prompt_number": 10
    },
    {
     "cell_type": "code",
     "collapsed": false,
     "input": [
      "df4 = df3.pivot_table(index=\"ROLL_OUT\",values=\"Nb of SA in-store\", aggfunc=np.sum)"
     ],
     "language": "python",
     "metadata": {},
     "outputs": [],
     "prompt_number": 11
    },
    {
     "cell_type": "markdown",
     "metadata": {},
     "source": [
      "Try reindex: http://stackoverflow.com/questions/19324453/add-missing-dates-to-pandas-dataframe"
     ]
    },
    {
     "cell_type": "code",
     "collapsed": false,
     "input": [
      "idx = pd.date_range('02-11-2015', '03-30-2015')"
     ],
     "language": "python",
     "metadata": {},
     "outputs": [],
     "prompt_number": 12
    },
    {
     "cell_type": "code",
     "collapsed": false,
     "input": [
      "s = df4.reindex(idx, fill_value=0)"
     ],
     "language": "python",
     "metadata": {},
     "outputs": [],
     "prompt_number": 13
    },
    {
     "cell_type": "code",
     "collapsed": false,
     "input": [
      "df = pd.merge(df1, df2, how='left')"
     ],
     "language": "python",
     "metadata": {},
     "outputs": [],
     "prompt_number": 14
    },
    {
     "cell_type": "markdown",
     "metadata": {},
     "source": [
      "Select only the Sales Assistants:"
     ]
    },
    {
     "cell_type": "code",
     "collapsed": false,
     "input": [
      "df[\"LOGIN_ID\"] = df[\"LOGIN_ID\"].astype('str').convert_objects(convert_numeric=True)"
     ],
     "language": "python",
     "metadata": {},
     "outputs": [],
     "prompt_number": 15
    },
    {
     "cell_type": "markdown",
     "metadata": {},
     "source": [
      "Keep only the records of people who managed to connect (Login successful):"
     ]
    },
    {
     "cell_type": "code",
     "collapsed": false,
     "input": [
      "SaRecordings = df[~df['LOGIN_ID'].isnull()]"
     ],
     "language": "python",
     "metadata": {},
     "outputs": [],
     "prompt_number": 16
    },
    {
     "cell_type": "markdown",
     "metadata": {},
     "source": [
      "Nb de visiteurs uniques par jour"
     ]
    },
    {
     "cell_type": "code",
     "collapsed": false,
     "input": [
      "usersJour = SaRecordings[(SaRecordings[\"API_ACTION\"]==\"Login\") & (SaRecordings[\"RESULT_STATUS\"]==\"OK\")]"
     ],
     "language": "python",
     "metadata": {},
     "outputs": [],
     "prompt_number": 17
    },
    {
     "cell_type": "code",
     "collapsed": false,
     "input": [
      "#usersJour = usersJour[\"LOGIN_ID\"].drop_duplicates()"
     ],
     "language": "python",
     "metadata": {},
     "outputs": [],
     "prompt_number": 18
    },
    {
     "cell_type": "code",
     "collapsed": false,
     "input": [
      "nbUserJour = usersJour[[\"ORGANIZATION_ID\",\"LOGIN_ID\",\"DAY\"]].groupby(\"DAY\")"
     ],
     "language": "python",
     "metadata": {},
     "outputs": [],
     "prompt_number": 19
    },
    {
     "cell_type": "code",
     "collapsed": false,
     "input": [
      "nbUserJour.size().to_clipboard()"
     ],
     "language": "python",
     "metadata": {},
     "outputs": [],
     "prompt_number": 20
    },
    {
     "cell_type": "heading",
     "level": 1,
     "metadata": {},
     "source": [
      "Nb of requests: total 'Item Search'"
     ]
    },
    {
     "cell_type": "code",
     "collapsed": false,
     "input": [
      "itemSearch = SaRecordings.query('API_ACTION == [\"getInvStyle\",\"getInvSku_manual\",\"getInvSku_manual\",\"getInvSku_picture\"]')"
     ],
     "language": "python",
     "metadata": {},
     "outputs": [],
     "prompt_number": 21
    },
    {
     "cell_type": "code",
     "collapsed": false,
     "input": [
      "iSearch = itemSearch[\"DAY\"].value_counts()"
     ],
     "language": "python",
     "metadata": {},
     "outputs": [],
     "prompt_number": 22
    },
    {
     "cell_type": "code",
     "collapsed": false,
     "input": [
      "iSearch = iSearch.sort_index()"
     ],
     "language": "python",
     "metadata": {},
     "outputs": [],
     "prompt_number": 24
    },
    {
     "cell_type": "code",
     "collapsed": false,
     "input": [
      "iSearch.to_clipboard()"
     ],
     "language": "python",
     "metadata": {},
     "outputs": [],
     "prompt_number": 25
    },
    {
     "cell_type": "heading",
     "level": 1,
     "metadata": {},
     "source": [
      "Nb of requests: total 'Customer Search'"
     ]
    },
    {
     "cell_type": "code",
     "collapsed": false,
     "input": [
      "df2 = SaRecordings[SaRecordings[\"API_ACTION\"] == \"customerSearch\"]"
     ],
     "language": "python",
     "metadata": {},
     "outputs": [],
     "prompt_number": 26
    },
    {
     "cell_type": "code",
     "collapsed": false,
     "input": [
      "cSearch = df2[\"DAY\"].value_counts()"
     ],
     "language": "python",
     "metadata": {},
     "outputs": [],
     "prompt_number": 27
    },
    {
     "cell_type": "code",
     "collapsed": false,
     "input": [
      "cSearch = cSearch.sort_index()"
     ],
     "language": "python",
     "metadata": {},
     "outputs": [],
     "prompt_number": 28
    },
    {
     "cell_type": "code",
     "collapsed": false,
     "input": [
      "cSearch.to_clipboard()"
     ],
     "language": "python",
     "metadata": {},
     "outputs": [],
     "prompt_number": 30
    },
    {
     "cell_type": "code",
     "collapsed": false,
     "input": [
      "plotData1 = pd.DataFrame(data=iSearch, columns=[\"ItemSearch\"])"
     ],
     "language": "python",
     "metadata": {},
     "outputs": []
    },
    {
     "cell_type": "code",
     "collapsed": false,
     "input": [
      "plotData2 = pd.DataFrame(data=cSearch, columns=[\"CustomerSearch\"])"
     ],
     "language": "python",
     "metadata": {},
     "outputs": []
    },
    {
     "cell_type": "code",
     "collapsed": false,
     "input": [
      "plotData = pd.merge(plotData1, plotData2, left_index=True, right_index=True)"
     ],
     "language": "python",
     "metadata": {},
     "outputs": []
    },
    {
     "cell_type": "code",
     "collapsed": false,
     "input": [
      "plotData.to_csv(\"usage.csv\", headers=True)"
     ],
     "language": "python",
     "metadata": {},
     "outputs": []
    },
    {
     "cell_type": "markdown",
     "metadata": {},
     "source": [
      "Plot the data:"
     ]
    },
    {
     "cell_type": "code",
     "collapsed": false,
     "input": [
      "%matplotlib osx"
     ],
     "language": "python",
     "metadata": {},
     "outputs": []
    },
    {
     "cell_type": "code",
     "collapsed": false,
     "input": [
      "grapSearch = iSearch.plot()"
     ],
     "language": "python",
     "metadata": {},
     "outputs": []
    },
    {
     "cell_type": "code",
     "collapsed": false,
     "input": [
      "cSearch.plot()"
     ],
     "language": "python",
     "metadata": {},
     "outputs": []
    },
    {
     "cell_type": "heading",
     "level": 1,
     "metadata": {},
     "source": [
      "Nb of requests per user:"
     ]
    },
    {
     "cell_type": "code",
     "collapsed": false,
     "input": [
      "userCusto = cSearch.apply(lambda x: x/nbUniqueUsers)"
     ],
     "language": "python",
     "metadata": {},
     "outputs": []
    },
    {
     "cell_type": "code",
     "collapsed": false,
     "input": [
      "userItem = iSearch.apply(lambda x: x/nbUniqueUsers)"
     ],
     "language": "python",
     "metadata": {},
     "outputs": []
    },
    {
     "cell_type": "code",
     "collapsed": false,
     "input": [
      "userItem"
     ],
     "language": "python",
     "metadata": {},
     "outputs": []
    },
    {
     "cell_type": "code",
     "collapsed": false,
     "input": [
      "result = pd.DataFrame()"
     ],
     "language": "python",
     "metadata": {},
     "outputs": []
    },
    {
     "cell_type": "markdown",
     "metadata": {},
     "source": [
      "Does not work"
     ]
    },
    {
     "cell_type": "code",
     "collapsed": false,
     "input": [
      "df_final = result.append(iSearch, ignore_index=True)"
     ],
     "language": "python",
     "metadata": {},
     "outputs": []
    },
    {
     "cell_type": "code",
     "collapsed": false,
     "input": [
      "df_final = df_final.append(cSearch, ignore_index=True)"
     ],
     "language": "python",
     "metadata": {},
     "outputs": []
    },
    {
     "cell_type": "heading",
     "level": 1,
     "metadata": {},
     "source": [
      "Most active users"
     ]
    },
    {
     "cell_type": "markdown",
     "metadata": {},
     "source": [
      "Do users have a homogeneous behaviour?"
     ]
    },
    {
     "cell_type": "code",
     "collapsed": false,
     "input": [
      "use = SaRecordings[[\"EMPLOYEE_ID\",\"API_ACTION\"]]"
     ],
     "language": "python",
     "metadata": {},
     "outputs": []
    },
    {
     "cell_type": "code",
     "collapsed": false,
     "input": [
      "usergroup = use.groupby('EMPLOYEE_ID')"
     ],
     "language": "python",
     "metadata": {},
     "outputs": []
    },
    {
     "cell_type": "code",
     "collapsed": false,
     "input": [
      "usergroup.size()"
     ],
     "language": "python",
     "metadata": {},
     "outputs": []
    },
    {
     "cell_type": "code",
     "collapsed": false,
     "input": [
      "usergroup.size().describe()"
     ],
     "language": "python",
     "metadata": {},
     "outputs": []
    },
    {
     "cell_type": "code",
     "collapsed": false,
     "input": [
      "usergroup.size().to_clipboard()"
     ],
     "language": "python",
     "metadata": {},
     "outputs": []
    },
    {
     "cell_type": "heading",
     "level": 1,
     "metadata": {},
     "source": [
      "Most active brands"
     ]
    },
    {
     "cell_type": "code",
     "collapsed": false,
     "input": [
      "brandUse = SaRecordings[[\"ORGANIZATION_ID\",\"API_ACTION\", \"ORG NAME\"]]"
     ],
     "language": "python",
     "metadata": {},
     "outputs": []
    },
    {
     "cell_type": "code",
     "collapsed": false,
     "input": [
      "brandUseGroup = brandUse.groupby(\"ORG NAME\")"
     ],
     "language": "python",
     "metadata": {},
     "outputs": []
    },
    {
     "cell_type": "code",
     "collapsed": false,
     "input": [
      "brandUseGroup.size()"
     ],
     "language": "python",
     "metadata": {},
     "outputs": []
    }
   ],
   "metadata": {}
  }
 ]
}