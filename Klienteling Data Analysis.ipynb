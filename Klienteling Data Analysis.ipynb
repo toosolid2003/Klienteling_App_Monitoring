{
 "metadata": {
  "name": "",
  "signature": "sha256:0a48e21d2ba1fef66950602855bd6c1917d49092317153248d0cf8e87b2dc8c1"
 },
 "nbformat": 3,
 "nbformat_minor": 0,
 "worksheets": [
  {
   "cells": [
    {
     "cell_type": "heading",
     "level": 1,
     "metadata": {},
     "source": [
      "Preparation of data"
     ]
    },
    {
     "cell_type": "code",
     "collapsed": false,
     "input": [
      "import pandas as pd"
     ],
     "language": "python",
     "metadata": {},
     "outputs": [],
     "prompt_number": 1
    },
    {
     "cell_type": "code",
     "collapsed": false,
     "input": [
      "import numpy as np"
     ],
     "language": "python",
     "metadata": {},
     "outputs": [],
     "prompt_number": 2
    },
    {
     "cell_type": "code",
     "collapsed": false,
     "input": [
      "import pygal"
     ],
     "language": "python",
     "metadata": {},
     "outputs": [],
     "prompt_number": 3
    },
    {
     "cell_type": "markdown",
     "metadata": {},
     "source": [
      "Create the dataframe:"
     ]
    },
    {
     "cell_type": "code",
     "collapsed": false,
     "input": [
      "df1 = pd.read_excel(\"/Users/thibaut.segura/Desktop/Raw Data.xlsx\")"
     ],
     "language": "python",
     "metadata": {},
     "outputs": [],
     "prompt_number": 4
    },
    {
     "cell_type": "code",
     "collapsed": false,
     "input": [
      "df2 = pd.read_excel(\"/Users/thibaut.segura/Desktop/corr.xlsx\", sheetname=\"Corresp\")"
     ],
     "language": "python",
     "metadata": {},
     "outputs": [],
     "prompt_number": 5
    },
    {
     "cell_type": "markdown",
     "metadata": {},
     "source": [
      "Merge both dataframes to get Organization labels, instead of IDs only:"
     ]
    },
    {
     "cell_type": "code",
     "collapsed": false,
     "input": [
      "df = pd.merge(df1, df2, how='left')"
     ],
     "language": "python",
     "metadata": {},
     "outputs": [],
     "prompt_number": 6
    },
    {
     "cell_type": "markdown",
     "metadata": {},
     "source": [
      "Select only the Sales Assistants:"
     ]
    },
    {
     "cell_type": "code",
     "collapsed": false,
     "input": [
      "df[\"EMPLOYEE_ID\"] = df[\"EMPLOYEE_ID\"].astype('str').convert_objects(convert_numeric=True)"
     ],
     "language": "python",
     "metadata": {},
     "outputs": [],
     "prompt_number": 7
    },
    {
     "cell_type": "markdown",
     "metadata": {},
     "source": [
      "Keep only the records of people who managed to connect (Login successful):"
     ]
    },
    {
     "cell_type": "code",
     "collapsed": false,
     "input": [
      "SaRecordings = df[~df['EMPLOYEE_ID'].isnull()]"
     ],
     "language": "python",
     "metadata": {},
     "outputs": [],
     "prompt_number": 8
    },
    {
     "cell_type": "markdown",
     "metadata": {},
     "source": [
      "Compute the number of unique visitors:"
     ]
    },
    {
     "cell_type": "code",
     "collapsed": false,
     "input": [
      "nbUniqueUsers = len(SaRecordings[\"EMPLOYEE_ID\"].unique())"
     ],
     "language": "python",
     "metadata": {},
     "outputs": [],
     "prompt_number": 9
    },
    {
     "cell_type": "heading",
     "level": 1,
     "metadata": {},
     "source": [
      "Nb of requests: total 'Item Search'"
     ]
    },
    {
     "cell_type": "code",
     "collapsed": false,
     "input": [
      "itemSearch = SaRecordings.query('API_ACTION == [\"getInvStyle\",\"getInvSku_manual\",\"getInvSku_manual\",\"getInvSku_picture\"]')"
     ],
     "language": "python",
     "metadata": {},
     "outputs": [],
     "prompt_number": 10
    },
    {
     "cell_type": "code",
     "collapsed": false,
     "input": [
      "iSearch = itemSearch[\"DAY\"].value_counts()"
     ],
     "language": "python",
     "metadata": {},
     "outputs": [],
     "prompt_number": 11
    },
    {
     "cell_type": "code",
     "collapsed": false,
     "input": [
      "iSearch = iSearch.sort_index()"
     ],
     "language": "python",
     "metadata": {},
     "outputs": [],
     "prompt_number": 12
    },
    {
     "cell_type": "heading",
     "level": 1,
     "metadata": {},
     "source": [
      "Nb of requests: total 'Customer Search'"
     ]
    },
    {
     "cell_type": "code",
     "collapsed": false,
     "input": [
      "df2 = SaRecordings[SaRecordings[\"API_ACTION\"] == \"customerSearch\"]"
     ],
     "language": "python",
     "metadata": {},
     "outputs": [],
     "prompt_number": 13
    },
    {
     "cell_type": "code",
     "collapsed": false,
     "input": [
      "cSearch = df2[\"DAY\"].value_counts()"
     ],
     "language": "python",
     "metadata": {},
     "outputs": [],
     "prompt_number": 14
    },
    {
     "cell_type": "code",
     "collapsed": false,
     "input": [
      "cSearch = cSearch.sort_index()"
     ],
     "language": "python",
     "metadata": {},
     "outputs": [],
     "prompt_number": 15
    },
    {
     "cell_type": "code",
     "collapsed": false,
     "input": [
      "cSearch"
     ],
     "language": "python",
     "metadata": {},
     "outputs": [
      {
       "metadata": {},
       "output_type": "pyout",
       "prompt_number": 16,
       "text": [
        "2015-02-11     11\n",
        "2015-02-12     28\n",
        "2015-02-13     14\n",
        "2015-02-20      2\n",
        "2015-02-26     32\n",
        "2015-02-27     42\n",
        "2015-02-28     42\n",
        "2015-03-02    110\n",
        "2015-03-03    124\n",
        "2015-03-04     40\n",
        "2015-03-05     16\n",
        "2015-03-06     36\n",
        "2015-03-07     28\n",
        "2015-03-08     36\n",
        "2015-03-09     43\n",
        "2015-03-10     34\n",
        "2015-03-11    116\n",
        "2015-03-12    368\n",
        "2015-03-13     74\n",
        "2015-03-14     22\n",
        "2015-03-15     10\n",
        "2015-03-16     31\n",
        "2015-03-17     21\n",
        "2015-03-18     35\n",
        "2015-03-19     32\n",
        "2015-03-20     24\n",
        "2015-03-21     27\n",
        "2015-03-22     53\n",
        "2015-03-23      2\n",
        "dtype: int64"
       ]
      }
     ],
     "prompt_number": 16
    },
    {
     "cell_type": "code",
     "collapsed": false,
     "input": [
      "plotData1 = pd.DataFrame(data=iSearch, columns=[\"ItemSearch\"])"
     ],
     "language": "python",
     "metadata": {},
     "outputs": [],
     "prompt_number": 58
    },
    {
     "cell_type": "code",
     "collapsed": false,
     "input": [
      "plotData2 = pd.DataFrame(data=cSearch, columns=[\"CustomerSearch\"])"
     ],
     "language": "python",
     "metadata": {},
     "outputs": [],
     "prompt_number": 57
    },
    {
     "cell_type": "code",
     "collapsed": false,
     "input": [
      "plotData = pd.merge(plotData1, plotData2, left_index=True, right_index=True)"
     ],
     "language": "python",
     "metadata": {},
     "outputs": [],
     "prompt_number": 79
    },
    {
     "cell_type": "code",
     "collapsed": false,
     "input": [
      "plotData.to_csv(\"usage.csv\", headers=True)"
     ],
     "language": "python",
     "metadata": {},
     "outputs": [],
     "prompt_number": 80
    },
    {
     "cell_type": "markdown",
     "metadata": {},
     "source": [
      "Plot the data:"
     ]
    },
    {
     "cell_type": "code",
     "collapsed": false,
     "input": [
      "%matplotlib osx"
     ],
     "language": "python",
     "metadata": {},
     "outputs": [],
     "prompt_number": 18
    },
    {
     "cell_type": "code",
     "collapsed": false,
     "input": [
      "grapSearch = iSearch.plot()"
     ],
     "language": "python",
     "metadata": {},
     "outputs": [],
     "prompt_number": 19
    },
    {
     "cell_type": "code",
     "collapsed": false,
     "input": [
      "cSearch.plot()"
     ],
     "language": "python",
     "metadata": {},
     "outputs": [
      {
       "metadata": {},
       "output_type": "pyout",
       "prompt_number": 20,
       "text": [
        "<matplotlib.axes._subplots.AxesSubplot at 0x109759d68>"
       ]
      }
     ],
     "prompt_number": 20
    },
    {
     "cell_type": "heading",
     "level": 1,
     "metadata": {},
     "source": [
      "Nb of requests per user:"
     ]
    },
    {
     "cell_type": "code",
     "collapsed": false,
     "input": [
      "userCusto = cSearch.apply(lambda x: x/nbUniqueUsers)"
     ],
     "language": "python",
     "metadata": {},
     "outputs": [],
     "prompt_number": 21
    },
    {
     "cell_type": "code",
     "collapsed": false,
     "input": [
      "userItem = iSearch.apply(lambda x: x/nbUniqueUsers)"
     ],
     "language": "python",
     "metadata": {},
     "outputs": [],
     "prompt_number": 22
    },
    {
     "cell_type": "code",
     "collapsed": false,
     "input": [
      "userItem"
     ],
     "language": "python",
     "metadata": {},
     "outputs": [
      {
       "metadata": {},
       "output_type": "pyout",
       "prompt_number": 23,
       "text": [
        "2015-02-06    0.032258\n",
        "2015-02-11    0.048387\n",
        "2015-02-12    0.290323\n",
        "2015-02-13    0.290323\n",
        "2015-02-20    0.048387\n",
        "2015-02-26    1.354839\n",
        "2015-02-27    3.387097\n",
        "2015-02-28    2.580645\n",
        "2015-03-01    0.161290\n",
        "2015-03-02    3.483871\n",
        "2015-03-03    6.322581\n",
        "2015-03-04    6.645161\n",
        "2015-03-05    2.193548\n",
        "2015-03-06    1.741935\n",
        "2015-03-07    3.354839\n",
        "2015-03-08    3.483871\n",
        "2015-03-09    6.516129\n",
        "2015-03-10    3.516129\n",
        "2015-03-11    3.483871\n",
        "2015-03-12    4.612903\n",
        "2015-03-13    6.032258\n",
        "2015-03-14    5.387097\n",
        "2015-03-15    0.451613\n",
        "2015-03-16    1.774194\n",
        "2015-03-17    1.967742\n",
        "2015-03-18    1.629032\n",
        "2015-03-19    1.709677\n",
        "2015-03-20    2.483871\n",
        "2015-03-21    2.467742\n",
        "2015-03-22    0.161290\n",
        "2015-03-23    0.048387\n",
        "dtype: float64"
       ]
      }
     ],
     "prompt_number": 23
    },
    {
     "cell_type": "code",
     "collapsed": false,
     "input": [
      "result = pd.DataFrame()"
     ],
     "language": "python",
     "metadata": {},
     "outputs": [],
     "prompt_number": 24
    },
    {
     "cell_type": "markdown",
     "metadata": {},
     "source": [
      "Does not work"
     ]
    },
    {
     "cell_type": "code",
     "collapsed": false,
     "input": [
      "df_final = result.append(iSearch, ignore_index=True)"
     ],
     "language": "python",
     "metadata": {},
     "outputs": [],
     "prompt_number": 25
    },
    {
     "cell_type": "code",
     "collapsed": false,
     "input": [
      "df_final = df_final.append(cSearch, ignore_index=True)"
     ],
     "language": "python",
     "metadata": {},
     "outputs": [],
     "prompt_number": 26
    },
    {
     "cell_type": "heading",
     "level": 1,
     "metadata": {},
     "source": [
      "Most active users"
     ]
    },
    {
     "cell_type": "markdown",
     "metadata": {},
     "source": [
      "Do users have a homogeneous behaviour?"
     ]
    },
    {
     "cell_type": "code",
     "collapsed": false,
     "input": [
      "use = SaRecordings[[\"EMPLOYEE_ID\",\"API_ACTION\"]]"
     ],
     "language": "python",
     "metadata": {},
     "outputs": [],
     "prompt_number": 27
    },
    {
     "cell_type": "code",
     "collapsed": false,
     "input": [
      "usergroup = use.groupby('EMPLOYEE_ID')"
     ],
     "language": "python",
     "metadata": {},
     "outputs": [],
     "prompt_number": 28
    },
    {
     "cell_type": "code",
     "collapsed": false,
     "input": [
      "usergroup.size()"
     ],
     "language": "python",
     "metadata": {},
     "outputs": [
      {
       "metadata": {},
       "output_type": "pyout",
       "prompt_number": 29,
       "text": [
        "EMPLOYEE_ID\n",
        "1001           169\n",
        "1018            38\n",
        "1050           322\n",
        "3500           529\n",
        "7071           218\n",
        "7181           157\n",
        "19051           80\n",
        "19060            4\n",
        "27004          229\n",
        "27005          257\n",
        "27011          220\n",
        "27013          132\n",
        "27021          259\n",
        "27047          290\n",
        "27050          618\n",
        "...\n",
        "212017          16\n",
        "212044           4\n",
        "212062         133\n",
        "213042          62\n",
        "213046          89\n",
        "213054          38\n",
        "310030          22\n",
        "503034          34\n",
        "990003          13\n",
        "1040920         11\n",
        "1041467         12\n",
        "2013043         30\n",
        "8614004        642\n",
        "8614005         83\n",
        "8614019         76\n",
        "Length: 62, dtype: int64"
       ]
      }
     ],
     "prompt_number": 29
    },
    {
     "cell_type": "code",
     "collapsed": false,
     "input": [
      "usergroup.size().describe()"
     ],
     "language": "python",
     "metadata": {},
     "outputs": [
      {
       "metadata": {},
       "output_type": "pyout",
       "prompt_number": 30,
       "text": [
        "count     62.000000\n",
        "mean     156.725806\n",
        "std      169.156652\n",
        "min        2.000000\n",
        "25%       30.000000\n",
        "50%       95.500000\n",
        "75%      220.750000\n",
        "max      648.000000\n",
        "dtype: float64"
       ]
      }
     ],
     "prompt_number": 30
    },
    {
     "cell_type": "code",
     "collapsed": false,
     "input": [
      "usergroup.size().to_clipboard()"
     ],
     "language": "python",
     "metadata": {},
     "outputs": [],
     "prompt_number": 31
    },
    {
     "cell_type": "heading",
     "level": 1,
     "metadata": {},
     "source": [
      "Most active brands"
     ]
    },
    {
     "cell_type": "code",
     "collapsed": false,
     "input": [
      "brandUse = SaRecordings[[\"ORGANIZATION_ID\",\"API_ACTION\", \"ORG NAME\"]]"
     ],
     "language": "python",
     "metadata": {},
     "outputs": [],
     "prompt_number": 32
    },
    {
     "cell_type": "code",
     "collapsed": false,
     "input": [
      "brandUseGroup = brandUse.groupby(\"ORG NAME\")"
     ],
     "language": "python",
     "metadata": {},
     "outputs": [],
     "prompt_number": 33
    },
    {
     "cell_type": "code",
     "collapsed": false,
     "input": [
      "brandUseGroup.size()"
     ],
     "language": "python",
     "metadata": {},
     "outputs": [
      {
       "metadata": {},
       "output_type": "pyout",
       "prompt_number": 34,
       "text": [
        "ORG NAME\n",
        "Balenciaga             1113\n",
        "Saint-Laurent Paris    8581\n",
        "Stella McCartney         23\n",
        "dtype: int64"
       ]
      }
     ],
     "prompt_number": 34
    }
   ],
   "metadata": {}
  }
 ]
}